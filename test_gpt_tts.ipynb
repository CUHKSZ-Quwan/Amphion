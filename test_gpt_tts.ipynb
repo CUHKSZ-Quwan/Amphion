{
 "cells": [
  {
   "cell_type": "code",
   "execution_count": 1,
   "metadata": {},
   "outputs": [],
   "source": [
    "import torch\n",
    "import torch.nn as nn\n",
    "import torch.nn.functional as F\n",
    "import numpy as np\n",
    "import librosa\n",
    "import os\n",
    "from IPython.display import Audio\n",
    "import matplotlib.pyplot as plt"
   ]
  },
  {
   "cell_type": "code",
   "execution_count": 2,
   "metadata": {},
   "outputs": [
    {
     "name": "stderr",
     "output_type": "stream",
     "text": [
      "/usr/local/anaconda3/envs/Amphion/lib/python3.9/site-packages/tqdm/auto.py:21: TqdmWarning: IProgress not found. Please update jupyter and ipywidgets. See https://ipywidgets.readthedocs.io/en/stable/user_install.html\n",
      "  from .autonotebook import tqdm as notebook_tqdm\n"
     ]
    }
   ],
   "source": [
    "from models.codec.melvqgan.codec_mel import MelCodecEncoder, MelCodecDecoderWithTimbre\n",
    "from models.codec.melvqgan.melspec import MelSpectrogram\n",
    "from models.tts.gpt_tts.gpt_tts import GPTTTS\n",
    "from models.tts.gpt_tts.g2p_old_en import process, PHPONE2ID\n",
    "from g2p_en import G2p"
   ]
  },
  {
   "cell_type": "code",
   "execution_count": 3,
   "metadata": {},
   "outputs": [],
   "source": [
    "melvqgan_encoder = MelCodecEncoder(\n",
    "    d_mel=80,\n",
    "    d_model=96,\n",
    "    num_blocks=4,\n",
    "    out_channels=256,\n",
    ")"
   ]
  },
  {
   "cell_type": "code",
   "execution_count": 4,
   "metadata": {},
   "outputs": [],
   "source": [
    "melvqgan_decoder = MelCodecDecoderWithTimbre(\n",
    "    in_channels=256,\n",
    "    num_quantizers=1,\n",
    "    codebook_size=8192,\n",
    "    codebook_dim=8,\n",
    "    quantizer_type=\"fvq\",\n",
    "    use_l2_normlize=True,\n",
    "    vocos_dim=512,\n",
    "    vocos_intermediate_dim=4096,\n",
    "    vocos_num_layers=16,\n",
    "    ln_before_vq=True,\n",
    "    use_pe=False,\n",
    ")"
   ]
  },
  {
   "cell_type": "code",
   "execution_count": 5,
   "metadata": {},
   "outputs": [
    {
     "data": {
      "text/plain": [
       "<All keys matched successfully>"
      ]
     },
     "execution_count": 5,
     "metadata": {},
     "output_type": "execute_result"
    }
   ],
   "source": [
    "melvqgan_encoder.load_state_dict(torch.load(\"/mnt/data2/wangyuancheng/model_ckpts/gpt_tts/gpt_tts_melvqgan/ckpt/melvqgan/melvqgan_encoder.bin\"))\n",
    "melvqgan_decoder.load_state_dict(torch.load(\"/mnt/data2/wangyuancheng/model_ckpts/gpt_tts/gpt_tts_melvqgan/ckpt/melvqgan/melvqgan_decoder.bin\"))"
   ]
  },
  {
   "cell_type": "code",
   "execution_count": 6,
   "metadata": {},
   "outputs": [],
   "source": [
    "gpt_tts = GPTTTS(\n",
    "    phone_vocab_size=256,\n",
    "    target_vocab_size=8192,\n",
    "    hidden_size=1024,\n",
    "    intermediate_size=4096,\n",
    "    num_hidden_layers=12,\n",
    "    num_attention_heads=16,\n",
    "    pad_token_id=8448,\n",
    "    bos_target_id=8449,\n",
    "    eos_target_id=8450,\n",
    "    bos_phone_id=8451,\n",
    "    eos_phone_id=8452,\n",
    "    use_input_embeds=False,\n",
    "    emb_dim=256,\n",
    ")"
   ]
  },
  {
   "cell_type": "code",
   "execution_count": 7,
   "metadata": {},
   "outputs": [
    {
     "data": {
      "text/plain": [
       "<All keys matched successfully>"
      ]
     },
     "execution_count": 7,
     "metadata": {},
     "output_type": "execute_result"
    }
   ],
   "source": [
    "gpt_tts.load_state_dict(torch.load(\"/mnt/data2/wangyuancheng/model_ckpts/gpt_tts/gpt_tts_melvqgan/ckpt/gpt_tts/gpt_tts_small.bin\"))"
   ]
  },
  {
   "cell_type": "code",
   "execution_count": 8,
   "metadata": {},
   "outputs": [
    {
     "data": {
      "text/plain": [
       "GPTTTS(\n",
       "  (model): LlamaForCausalLM(\n",
       "    (model): LlamaModel(\n",
       "      (embed_tokens): Embedding(8458, 1024, padding_idx=8448)\n",
       "      (layers): ModuleList(\n",
       "        (0-11): 12 x LlamaDecoderLayer(\n",
       "          (self_attn): LlamaAttention(\n",
       "            (q_proj): Linear(in_features=1024, out_features=1024, bias=False)\n",
       "            (k_proj): Linear(in_features=1024, out_features=1024, bias=False)\n",
       "            (v_proj): Linear(in_features=1024, out_features=1024, bias=False)\n",
       "            (o_proj): Linear(in_features=1024, out_features=1024, bias=False)\n",
       "            (rotary_emb): LlamaRotaryEmbedding()\n",
       "          )\n",
       "          (mlp): LlamaMLP(\n",
       "            (gate_proj): Linear(in_features=1024, out_features=4096, bias=False)\n",
       "            (up_proj): Linear(in_features=1024, out_features=4096, bias=False)\n",
       "            (down_proj): Linear(in_features=4096, out_features=1024, bias=False)\n",
       "            (act_fn): SiLU()\n",
       "          )\n",
       "          (input_layernorm): LlamaRMSNorm()\n",
       "          (post_attention_layernorm): LlamaRMSNorm()\n",
       "        )\n",
       "      )\n",
       "      (norm): LlamaRMSNorm()\n",
       "    )\n",
       "    (lm_head): Linear(in_features=1024, out_features=8458, bias=False)\n",
       "  )\n",
       ")"
      ]
     },
     "execution_count": 8,
     "metadata": {},
     "output_type": "execute_result"
    }
   ],
   "source": [
    "device = torch.device(\"cuda\" if torch.cuda.is_available() else \"cpu\")\n",
    "melvqgan_encoder.to(device)\n",
    "melvqgan_decoder.to(device)\n",
    "gpt_tts.to(device)"
   ]
  },
  {
   "cell_type": "code",
   "execution_count": 9,
   "metadata": {},
   "outputs": [],
   "source": [
    "g2p = G2p()"
   ]
  },
  {
   "cell_type": "code",
   "execution_count": 10,
   "metadata": {},
   "outputs": [
    {
     "name": "stdout",
     "output_type": "stream",
     "text": [
      "['<BOS>', 'IH1B', 'TI', 'SE', '|', 'TB', 'AY1I', 'ME', '|', 'TB', 'UW1E', '|', 'DB', 'UW1E', '!', 'IH1B', 'FE', '|', 'YB', 'UW1E', '|', 'AA1B', 'RE', '|', 'AH0B', '|', 'TB', 'RI', 'UW1E', '|', 'DB', 'UW1I', 'AH0I', 'LI', 'IH0I', 'SI', 'TE', '<EOS>']\n",
      "[5, 116, 185, 175, 218, 180, 61, 142, 218, 180, 198, 218, 71, 198, 0, 116, 105, 218, 209, 198, 218, 13, 172, 218, 28, 218, 180, 173, 198, 218, 71, 199, 30, 140, 115, 179, 181, 6]\n",
      "[  5 116 185 175 218 180  61 142 218 180 198 218  71 198   0 116 105 218\n",
      " 209 198 218  13 172 218  28 218 180 173 198 218  71 199  30 140 115 179\n",
      " 181 218]\n"
     ]
    }
   ],
   "source": [
    "ref_text = \"It's time to do! If you are a true duelist.\"\n",
    "ref_txt_struct, ref_txt = process(ref_text, g2p)\n",
    "ref_phone_seq = [p for w in ref_txt_struct for p in w[1]]\n",
    "ref_phone_id = [PHPONE2ID[p] for p in ref_phone_seq]\n",
    "print(ref_phone_seq)\n",
    "print(ref_phone_id)\n",
    "ref_phone_id = ref_phone_id[:-1]\n",
    "ref_phone_id = np.concatenate([ref_phone_id, np.array([218])])\n",
    "print(ref_phone_id)"
   ]
  },
  {
   "cell_type": "code",
   "execution_count": 11,
   "metadata": {},
   "outputs": [
    {
     "name": "stdout",
     "output_type": "stream",
     "text": [
      "['<BOS>', 'WB', 'AY1I', 'LE', '|', 'RB', 'IY1I', 'SI', 'AH0I', 'NI', 'TE', '|', 'LB', 'AA1I', 'RI', 'JHE', '|', 'SB', 'KI', 'EY1I', 'LE', '|', 'TB', 'EH1I', 'KI', 'SI', 'TE', '|', 'TB', 'UW1E', '|', 'SB', 'PI', 'IY1I', 'CHE', '|', 'MB', 'AA1I', 'DI', 'AH0I', 'LI', 'ZE', '|', 'HHB', 'AE1I', 'VE', '|', 'AH0B', 'CHI', 'IY1I', 'VI', 'DE', '|', 'SB', 'AH0I', 'GI', 'NI', 'IH1I', 'FI', 'IH0I', 'KI', 'AH0I', 'NI', 'TE', '|', 'PB', 'RI', 'AA1I', 'GI', 'RI', 'EH2I', 'SE', ',', 'DHB', 'EY1E', '|', 'SB', 'TI', 'IH1I', 'LE', '|', 'FB', 'AO1I', 'LE', '|', 'SHB', 'AO1I', 'RI', 'TE', '|', 'IH0B', 'NE', '|', 'SB', 'PI', 'IY1I', 'CHE', '|', 'KB', 'WI', 'AA1I', 'LI', 'AH0I', 'TI', 'IY0E', ',', 'SB', 'IH2I', 'MI', 'AH0I', 'LI', 'EH1I', 'RI', 'AH0I', 'TI', 'IY0E', ',', 'AH0B', 'NI', 'DE', '|', 'PB', 'RI', 'AA1I', 'SI', 'AH0I', 'DI', 'IY0E', '<EOS>']\n",
      "[5, 206, 61, 139, 218, 171, 127, 179, 30, 149, 181, 218, 138, 15, 173, 132, 218, 174, 136, 100, 139, 218, 180, 82, 136, 179, 181, 218, 180, 198, 218, 174, 170, 127, 69, 218, 141, 15, 76, 30, 140, 213, 218, 110, 24, 204, 218, 28, 70, 127, 205, 72, 218, 174, 30, 109, 149, 118, 106, 115, 136, 30, 149, 181, 218, 168, 173, 15, 109, 173, 85, 175, 1, 73, 99, 218, 174, 185, 118, 139, 218, 104, 43, 139, 218, 176, 43, 173, 181, 218, 113, 145, 218, 174, 170, 127, 69, 218, 134, 208, 15, 140, 30, 185, 123, 1, 174, 121, 143, 30, 140, 82, 173, 30, 185, 123, 1, 28, 149, 72, 218, 168, 173, 15, 179, 30, 76, 123, 6]\n"
     ]
    }
   ],
   "source": [
    "target_text = \" While recent large-scale text-to-speech models have achieved significant progress, they still fall short in speech quality, similarity, and prosody.\"\n",
    "target_txt_struct, target_txt = process(target_text, g2p)\n",
    "target_phone_seq = [p for w in target_txt_struct for p in w[1]]\n",
    "target_phone_id = [PHPONE2ID[p] for p in target_phone_seq]\n",
    "print(target_phone_seq)\n",
    "print(target_phone_id)\n",
    "target_phone_id = target_phone_id[1:]\n",
    "target_phone_id = np.array(target_phone_id)"
   ]
  },
  {
   "cell_type": "code",
   "execution_count": 12,
   "metadata": {},
   "outputs": [],
   "source": [
    "ref_phone_id = torch.from_numpy(ref_phone_id).unsqueeze(0).to(device).long()\n",
    "phone_id = torch.from_numpy(target_phone_id).unsqueeze(0).to(device).long()\n",
    "phone_ids = torch.cat([ref_phone_id, phone_id], dim=1)"
   ]
  },
  {
   "cell_type": "code",
   "execution_count": 14,
   "metadata": {},
   "outputs": [],
   "source": [
    "ref_wav_path = \"/home/wangyuancheng/yuancwang/Amphion/example_wavs/ref/ref_1.wav\"\n",
    "ref_wav, _ = librosa.load(ref_wav_path, sr=16000)\n",
    "ref_wav = np.pad(ref_wav, (0, 200 - len(ref_wav) % 200))\n",
    "ref_wav = torch.from_numpy(ref_wav).to(device)\n",
    "ref_wav = ref_wav[None, :]"
   ]
  },
  {
   "cell_type": "code",
   "execution_count": 15,
   "metadata": {},
   "outputs": [],
   "source": [
    "vq_emb = melvqgan_encoder(ref_wav.unsqueeze(1))\n",
    "(\n",
    "    _,\n",
    "    vq_indices,\n",
    "    _,\n",
    "    _,\n",
    "    _,\n",
    "    speaker_embedding,\n",
    ") = melvqgan_decoder(vq_emb, vq=True, eval_vq=False)\n",
    "prompt_ids = vq_indices[0, :, :]"
   ]
  },
  {
   "cell_type": "code",
   "execution_count": 16,
   "metadata": {},
   "outputs": [],
   "source": [
    "gen_tokens = gpt_tts.sample_hf(\n",
    "    phone_ids,\n",
    "    prompt_ids,\n",
    "    max_length=3600,\n",
    "    temperature=1.0,\n",
    "    top_k=8192,\n",
    "    top_p=0.9,\n",
    "    repeat_penalty=1.0,\n",
    ")"
   ]
  },
  {
   "cell_type": "code",
   "execution_count": 17,
   "metadata": {},
   "outputs": [
    {
     "name": "stdout",
     "output_type": "stream",
     "text": [
      "torch.Size([1, 777])\n",
      "torch.Size([1, 256, 777])\n"
     ]
    }
   ],
   "source": [
    "print(gen_tokens.shape)\n",
    "vq_post_emb = melvqgan_decoder.vq2emb(gen_tokens.unsqueeze(0))\n",
    "print(vq_post_emb.shape)\n",
    "recovered_mel = melvqgan_decoder(\n",
    "    vq_post_emb, vq=False, speaker_embedding=speaker_embedding\n",
    ")"
   ]
  },
  {
   "cell_type": "code",
   "execution_count": null,
   "metadata": {},
   "outputs": [],
   "source": [
    "# plt.figure(figsize=(12, 6))\n",
    "# plt.imshow(recovered_mel[0].detach().cpu().numpy(), aspect=\"auto\", origin=\"lower\")"
   ]
  },
  {
   "cell_type": "code",
   "execution_count": 19,
   "metadata": {},
   "outputs": [],
   "source": [
    "recon_path = \"example_wavs/gen/mel/gen_2.npy\"\n",
    "np.save(recon_path, recovered_mel.detach().cpu().numpy())"
   ]
  },
  {
   "cell_type": "code",
   "execution_count": 22,
   "metadata": {},
   "outputs": [
    {
     "name": "stdout",
     "output_type": "stream",
     "text": [
      "Initializing Inference Process..\n",
      "Loading '/mnt/data2/wangyuancheng/model_ckpts/gpt_tts/gpt_tts_melvqgan/ckpt/vocoder/g_00490000'\n",
      "Complete.\n",
      "Removing weight norm...\n",
      "example_wavs/gen/wav/gen_2_generated_e2e.wav\n",
      "example_wavs/gen/wav/gen_1_generated_e2e.wav\n"
     ]
    },
    {
     "data": {
      "text/plain": [
       "0"
      ]
     },
     "execution_count": 22,
     "metadata": {},
     "output_type": "execute_result"
    }
   ],
   "source": [
    "os.system(\n",
    "    f\"python BigVGAN/inference_e2e.py --input_mels_dir=example_wavs/gen/mel --output_dir=example_wavs/gen/wav --checkpoint_file=/mnt/data2/wangyuancheng/model_ckpts/gpt_tts/gpt_tts_melvqgan/ckpt/vocoder/g_00490000\"\n",
    ")"
   ]
  }
 ],
 "metadata": {
  "kernelspec": {
   "display_name": "codec",
   "language": "python",
   "name": "python3"
  },
  "language_info": {
   "codemirror_mode": {
    "name": "ipython",
    "version": 3
   },
   "file_extension": ".py",
   "mimetype": "text/x-python",
   "name": "python",
   "nbconvert_exporter": "python",
   "pygments_lexer": "ipython3",
   "version": "3.9.18"
  },
  "orig_nbformat": 4
 },
 "nbformat": 4,
 "nbformat_minor": 2
}
